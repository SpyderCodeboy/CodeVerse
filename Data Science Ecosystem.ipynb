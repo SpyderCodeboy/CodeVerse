{
 "cells": [
  {
   "cell_type": "markdown",
   "id": "4072b8ea",
   "metadata": {},
   "source": [
    "# Data Science Tools and Ecosystem"
   ]
  },
  {
   "cell_type": "markdown",
   "id": "713b99cd",
   "metadata": {},
   "source": [
    "In this notebook, Data Science Tools and Ecosystem are summarized."
   ]
  },
  {
   "cell_type": "markdown",
   "id": "b76eb552",
   "metadata": {},
   "source": [
    "Some of the popular languages that Data Scientists use are: \n",
    "\n",
    "1. R\n",
    "2. SCALA\n",
    "3. PYTHON"
   ]
  },
  {
   "cell_type": "markdown",
   "id": "faa89801",
   "metadata": {},
   "source": [
    "Some of the commonly used libraries used by Data Scientists include:\n",
    "1. NumPy\n",
    "2. SciPy\n",
    "3. PANDA"
   ]
  },
  {
   "cell_type": "markdown",
   "id": "977205ad",
   "metadata": {},
   "source": [
    "| Data Science Tools |\n",
    "|--------------------|\n",
    "|PANDA|\n",
    "|Matplotlib|\n",
    "|Seaborn|"
   ]
  },
  {
   "cell_type": "markdown",
   "id": "62022f60",
   "metadata": {},
   "source": [
    "### Below are a few examples of evaluating arithmetic expressions in Python"
   ]
  },
  {
   "cell_type": "code",
   "execution_count": 9,
   "id": "47b83c26",
   "metadata": {},
   "outputs": [
    {
     "data": {
      "text/plain": [
       "17"
      ]
     },
     "execution_count": 9,
     "metadata": {},
     "output_type": "execute_result"
    }
   ],
   "source": [
    "#This a simple arithmetic expression to mutiply then add integers\n",
    "(3*4)+5"
   ]
  },
  {
   "cell_type": "code",
   "execution_count": 10,
   "id": "6a5ca0ed",
   "metadata": {},
   "outputs": [
    {
     "data": {
      "text/plain": [
       "3.3333333333333335"
      ]
     },
     "execution_count": 10,
     "metadata": {},
     "output_type": "execute_result"
    }
   ],
   "source": [
    "#This will convert 200 minutes to hours by diving by 60\n",
    "200/60"
   ]
  },
  {
   "cell_type": "markdown",
   "id": "502df907",
   "metadata": {},
   "source": [
    "*Objectives:*\n",
    "+ List popular languages for Data Science\n",
    "+ List Some Data Science Tools \n",
    "+ List some commonly used libraries"
   ]
  },
  {
   "cell_type": "markdown",
   "id": "b2808c30",
   "metadata": {},
   "source": [
    "## Author\n",
    "Pranjal Gupta"
   ]
  },
  {
   "cell_type": "code",
   "execution_count": null,
   "id": "23f23ed2",
   "metadata": {},
   "outputs": [],
   "source": []
  }
 ],
 "metadata": {
  "kernelspec": {
   "display_name": "Python 3 (ipykernel)",
   "language": "python",
   "name": "python3"
  },
  "language_info": {
   "codemirror_mode": {
    "name": "ipython",
    "version": 3
   },
   "file_extension": ".py",
   "mimetype": "text/x-python",
   "name": "python",
   "nbconvert_exporter": "python",
   "pygments_lexer": "ipython3",
   "version": "3.11.4"
  }
 },
 "nbformat": 4,
 "nbformat_minor": 5
}
