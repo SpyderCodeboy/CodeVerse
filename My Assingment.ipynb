{
 "cells": [
  {
   "cell_type": "markdown",
   "id": "d0ff2999",
   "metadata": {},
   "source": [
    "# My Jupyter Note Book"
   ]
  },
  {
   "cell_type": "markdown",
   "id": "053f6d4e",
   "metadata": {},
   "source": [
    "This is my notebook here i will tell you about Data Science Tools\n"
   ]
  },
  {
   "cell_type": "markdown",
   "id": "bc81e98b",
   "metadata": {},
   "source": [
    "Some Important Data Science Languages Are:\n",
    "\n",
    "    1. Python\n",
    "    2. R\n",
    "    3. Scala"
   ]
  },
  {
   "cell_type": "markdown",
   "id": "a7085967",
   "metadata": {},
   "source": [
    "Below Listed are some Important Data Science Libraries:\n",
    "    \n",
    "    1. Numpy\n",
    "    2. PANDA\n",
    "    3. TensorFlow"
   ]
  },
  {
   "cell_type": "markdown",
   "id": "911b7003",
   "metadata": {},
   "source": [
    "|Data Science Tools|\n",
    "|------------------|\n",
    "| MY SQL |\n",
    "|Hadoop|\n",
    "|MongoDB|"
   ]
  },
  {
   "cell_type": "code",
   "execution_count": 8,
   "id": "ac578c77",
   "metadata": {},
   "outputs": [
    {
     "name": "stdout",
     "output_type": "stream",
     "text": [
      "16.0\n"
     ]
    }
   ],
   "source": [
    "#Here is a example of Arithmetic Calculations\n",
    "x=(4*8)/2\n",
    "print(x)"
   ]
  },
  {
   "cell_type": "code",
   "execution_count": 13,
   "id": "606fae90",
   "metadata": {},
   "outputs": [
    {
     "data": {
      "text/plain": [
       "10"
      ]
     },
     "execution_count": 13,
     "metadata": {},
     "output_type": "execute_result"
    }
   ],
   "source": [
    "#Example of Multiplication & Addition\n",
    "(2*2)+6\n"
   ]
  },
  {
   "cell_type": "code",
   "execution_count": 14,
   "id": "a3d934eb",
   "metadata": {},
   "outputs": [
    {
     "data": {
      "text/plain": [
       "2.0"
      ]
     },
     "execution_count": 14,
     "metadata": {},
     "output_type": "execute_result"
    }
   ],
   "source": [
    "#To Convert 120 min To Hrs\n",
    "120/60"
   ]
  },
  {
   "cell_type": "markdown",
   "id": "d79495ac",
   "metadata": {},
   "source": [
    "Objectives:\n",
    "    \n",
    "    * Some Important Data science Languages.\n",
    "    * List some Data Science Libraries.\n",
    "    * Name 3 Data science Tools"
   ]
  },
  {
   "cell_type": "markdown",
   "id": "fe6146f6",
   "metadata": {},
   "source": [
    "# Author\n",
    "Pranjal Gupta"
   ]
  },
  {
   "cell_type": "code",
   "execution_count": null,
   "id": "6a5f9c9f",
   "metadata": {},
   "outputs": [],
   "source": []
  }
 ],
 "metadata": {
  "kernelspec": {
   "display_name": "Python 3 (ipykernel)",
   "language": "python",
   "name": "python3"
  },
  "language_info": {
   "codemirror_mode": {
    "name": "ipython",
    "version": 3
   },
   "file_extension": ".py",
   "mimetype": "text/x-python",
   "name": "python",
   "nbconvert_exporter": "python",
   "pygments_lexer": "ipython3",
   "version": "3.11.4"
  }
 },
 "nbformat": 4,
 "nbformat_minor": 5
}
